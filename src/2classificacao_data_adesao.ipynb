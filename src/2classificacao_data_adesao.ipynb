{
 "cells": [
  {
   "cell_type": "code",
   "execution_count": 2,
   "id": "a12571fa",
   "metadata": {},
   "outputs": [],
   "source": [
    "import pandas as pd\n",
    "from datetime import datetime\n",
    "from sklearn.model_selection import train_test_split\n",
    "from sklearn.preprocessing import LabelEncoder\n",
    "from datetime import datetime, timedelta"
   ]
  },
  {
   "cell_type": "code",
   "execution_count": 157,
   "id": "7e10199b",
   "metadata": {},
   "outputs": [
    {
     "data": {
      "text/plain": [
       "0"
      ]
     },
     "execution_count": 157,
     "metadata": {},
     "output_type": "execute_result"
    }
   ],
   "source": [
    "# dados_tesouro_principal = pd.read_parquet(\"./data/sample_investidor_tesouro_direto.parquet\")\n",
    "df_principal = pd.read_parquet(\"./data/base_completa_investidor_tesouro_direto.parquet\")\n",
    "df = df_principal.copy().sample(n=6000000, random_state=42)\n",
    "del df_principal\n",
    "import gc\n",
    "gc.collect()"
   ]
  },
  {
   "cell_type": "code",
   "execution_count": 158,
   "id": "fd8f7df4",
   "metadata": {},
   "outputs": [
    {
     "data": {
      "text/html": [
       "<div>\n",
       "<style scoped>\n",
       "    .dataframe tbody tr th:only-of-type {\n",
       "        vertical-align: middle;\n",
       "    }\n",
       "\n",
       "    .dataframe tbody tr th {\n",
       "        vertical-align: top;\n",
       "    }\n",
       "\n",
       "    .dataframe thead th {\n",
       "        text-align: right;\n",
       "    }\n",
       "</style>\n",
       "<table border=\"1\" class=\"dataframe\">\n",
       "  <thead>\n",
       "    <tr style=\"text-align: right;\">\n",
       "      <th></th>\n",
       "      <th>Codigo do Investidor</th>\n",
       "      <th>Data de Adesao</th>\n",
       "      <th>Estado Civil</th>\n",
       "      <th>Genero</th>\n",
       "      <th>Profissao</th>\n",
       "      <th>Idade</th>\n",
       "      <th>UF do Investidor</th>\n",
       "      <th>Cidade do Investidor</th>\n",
       "      <th>Pais do Investidor</th>\n",
       "      <th>Situacao da Conta</th>\n",
       "      <th>Operou 12 Meses</th>\n",
       "    </tr>\n",
       "  </thead>\n",
       "  <tbody>\n",
       "    <tr>\n",
       "      <th>60166422</th>\n",
       "      <td>49554505</td>\n",
       "      <td>04/01/2024</td>\n",
       "      <td>Solteiro(a)</td>\n",
       "      <td>M</td>\n",
       "      <td>ESTUDANTE</td>\n",
       "      <td>19</td>\n",
       "      <td>SP</td>\n",
       "      <td>DIADEMA</td>\n",
       "      <td>BRASIL</td>\n",
       "      <td>A</td>\n",
       "      <td>N</td>\n",
       "    </tr>\n",
       "    <tr>\n",
       "      <th>41270912</th>\n",
       "      <td>4176931</td>\n",
       "      <td>22/10/2018</td>\n",
       "      <td>Desquitado(a)</td>\n",
       "      <td>M</td>\n",
       "      <td>ENGENHEIRO</td>\n",
       "      <td>37</td>\n",
       "      <td>SP</td>\n",
       "      <td>SAO PAULO</td>\n",
       "      <td>BRASIL</td>\n",
       "      <td>D</td>\n",
       "      <td>N</td>\n",
       "    </tr>\n",
       "    <tr>\n",
       "      <th>58204395</th>\n",
       "      <td>5006490</td>\n",
       "      <td>24/05/2021</td>\n",
       "      <td>Desquitado(a)</td>\n",
       "      <td>M</td>\n",
       "      <td>PROFESSOR DE PRIMEIRO E SEGUNDO GRAUS</td>\n",
       "      <td>58</td>\n",
       "      <td>RN</td>\n",
       "      <td>ITAU</td>\n",
       "      <td>BRASIL</td>\n",
       "      <td>A</td>\n",
       "      <td>N</td>\n",
       "    </tr>\n",
       "    <tr>\n",
       "      <th>31813239</th>\n",
       "      <td>260066</td>\n",
       "      <td>24/07/2014</td>\n",
       "      <td>Desquitado(a)</td>\n",
       "      <td>M</td>\n",
       "      <td>TECNÓLOGO</td>\n",
       "      <td>44</td>\n",
       "      <td>SP</td>\n",
       "      <td>SAO PAULO</td>\n",
       "      <td>BRASIL</td>\n",
       "      <td>D</td>\n",
       "      <td>N</td>\n",
       "    </tr>\n",
       "    <tr>\n",
       "      <th>55756511</th>\n",
       "      <td>4507115</td>\n",
       "      <td>19/02/2019</td>\n",
       "      <td>Solteiro(a)</td>\n",
       "      <td>M</td>\n",
       "      <td>OUTROS</td>\n",
       "      <td>27</td>\n",
       "      <td>SP</td>\n",
       "      <td>FERRAZ DE VASCONCELOS</td>\n",
       "      <td>BRASIL</td>\n",
       "      <td>D</td>\n",
       "      <td>N</td>\n",
       "    </tr>\n",
       "    <tr>\n",
       "      <th>...</th>\n",
       "      <td>...</td>\n",
       "      <td>...</td>\n",
       "      <td>...</td>\n",
       "      <td>...</td>\n",
       "      <td>...</td>\n",
       "      <td>...</td>\n",
       "      <td>...</td>\n",
       "      <td>...</td>\n",
       "      <td>...</td>\n",
       "      <td>...</td>\n",
       "      <td>...</td>\n",
       "    </tr>\n",
       "    <tr>\n",
       "      <th>5145823</th>\n",
       "      <td>15446025</td>\n",
       "      <td>30/11/2020</td>\n",
       "      <td>Solteiro(a)</td>\n",
       "      <td>M</td>\n",
       "      <td>OUTROS</td>\n",
       "      <td>37</td>\n",
       "      <td>SP</td>\n",
       "      <td>SANTA BARBARA D'OESTE</td>\n",
       "      <td>BRASIL</td>\n",
       "      <td>D</td>\n",
       "      <td>N</td>\n",
       "    </tr>\n",
       "    <tr>\n",
       "      <th>3555366</th>\n",
       "      <td>9115982</td>\n",
       "      <td>05/05/2022</td>\n",
       "      <td>Desquitado(a)</td>\n",
       "      <td>M</td>\n",
       "      <td>PROPRIETARIO DE MICROEMPRESAS</td>\n",
       "      <td>38</td>\n",
       "      <td>PE</td>\n",
       "      <td>CARUARU</td>\n",
       "      <td>BRASIL</td>\n",
       "      <td>A</td>\n",
       "      <td>N</td>\n",
       "    </tr>\n",
       "    <tr>\n",
       "      <th>40190308</th>\n",
       "      <td>29761924</td>\n",
       "      <td>31/01/2022</td>\n",
       "      <td>Solteiro(a)</td>\n",
       "      <td>M</td>\n",
       "      <td>ADVOGADO</td>\n",
       "      <td>39</td>\n",
       "      <td>PI</td>\n",
       "      <td>TERESINA</td>\n",
       "      <td>BRASIL</td>\n",
       "      <td>D</td>\n",
       "      <td>N</td>\n",
       "    </tr>\n",
       "    <tr>\n",
       "      <th>32739616</th>\n",
       "      <td>33591184</td>\n",
       "      <td>25/09/2023</td>\n",
       "      <td>Desquitado(a)</td>\n",
       "      <td>M</td>\n",
       "      <td>OUTROS</td>\n",
       "      <td>40</td>\n",
       "      <td>SP</td>\n",
       "      <td>OSASCO</td>\n",
       "      <td>BRASIL</td>\n",
       "      <td>A</td>\n",
       "      <td>N</td>\n",
       "    </tr>\n",
       "    <tr>\n",
       "      <th>32722507</th>\n",
       "      <td>31378372</td>\n",
       "      <td>08/01/2024</td>\n",
       "      <td>Solteiro(a)</td>\n",
       "      <td>M</td>\n",
       "      <td>TRABALHADOR AGRÍCOLA</td>\n",
       "      <td>34</td>\n",
       "      <td>SP</td>\n",
       "      <td>BRAGANCA PAULISTA</td>\n",
       "      <td>BRASIL</td>\n",
       "      <td>A</td>\n",
       "      <td>N</td>\n",
       "    </tr>\n",
       "  </tbody>\n",
       "</table>\n",
       "<p>6000000 rows × 11 columns</p>\n",
       "</div>"
      ],
      "text/plain": [
       "          Codigo do Investidor Data de Adesao   Estado Civil Genero  \\\n",
       "60166422              49554505     04/01/2024    Solteiro(a)      M   \n",
       "41270912               4176931     22/10/2018  Desquitado(a)      M   \n",
       "58204395               5006490     24/05/2021  Desquitado(a)      M   \n",
       "31813239                260066     24/07/2014  Desquitado(a)      M   \n",
       "55756511               4507115     19/02/2019    Solteiro(a)      M   \n",
       "...                        ...            ...            ...    ...   \n",
       "5145823               15446025     30/11/2020    Solteiro(a)      M   \n",
       "3555366                9115982     05/05/2022  Desquitado(a)      M   \n",
       "40190308              29761924     31/01/2022    Solteiro(a)      M   \n",
       "32739616              33591184     25/09/2023  Desquitado(a)      M   \n",
       "32722507              31378372     08/01/2024    Solteiro(a)      M   \n",
       "\n",
       "                                      Profissao  Idade UF do Investidor  \\\n",
       "60166422                              ESTUDANTE     19               SP   \n",
       "41270912                             ENGENHEIRO     37               SP   \n",
       "58204395  PROFESSOR DE PRIMEIRO E SEGUNDO GRAUS     58               RN   \n",
       "31813239                              TECNÓLOGO     44               SP   \n",
       "55756511                                 OUTROS     27               SP   \n",
       "...                                         ...    ...              ...   \n",
       "5145823                                  OUTROS     37               SP   \n",
       "3555366           PROPRIETARIO DE MICROEMPRESAS     38               PE   \n",
       "40190308                               ADVOGADO     39               PI   \n",
       "32739616                                 OUTROS     40               SP   \n",
       "32722507                   TRABALHADOR AGRÍCOLA     34               SP   \n",
       "\n",
       "           Cidade do Investidor Pais do Investidor Situacao da Conta  \\\n",
       "60166422                DIADEMA             BRASIL                 A   \n",
       "41270912              SAO PAULO             BRASIL                 D   \n",
       "58204395                   ITAU             BRASIL                 A   \n",
       "31813239              SAO PAULO             BRASIL                 D   \n",
       "55756511  FERRAZ DE VASCONCELOS             BRASIL                 D   \n",
       "...                         ...                ...               ...   \n",
       "5145823   SANTA BARBARA D'OESTE             BRASIL                 D   \n",
       "3555366                 CARUARU             BRASIL                 A   \n",
       "40190308               TERESINA             BRASIL                 D   \n",
       "32739616                 OSASCO             BRASIL                 A   \n",
       "32722507      BRAGANCA PAULISTA             BRASIL                 A   \n",
       "\n",
       "         Operou 12 Meses  \n",
       "60166422               N  \n",
       "41270912               N  \n",
       "58204395               N  \n",
       "31813239               N  \n",
       "55756511               N  \n",
       "...                  ...  \n",
       "5145823                N  \n",
       "3555366                N  \n",
       "40190308               N  \n",
       "32739616               N  \n",
       "32722507               N  \n",
       "\n",
       "[6000000 rows x 11 columns]"
      ]
     },
     "execution_count": 158,
     "metadata": {},
     "output_type": "execute_result"
    }
   ],
   "source": [
    "df"
   ]
  },
  {
   "cell_type": "code",
   "execution_count": 159,
   "id": "e12e2286",
   "metadata": {},
   "outputs": [],
   "source": [
    "# df = pd.read_parquet(\"./data/base_completa_investidor_tesouro_direto.parquet\")\n",
    "df['Data de Adesao'] = pd.to_datetime(df['Data de Adesao'], format='%d/%m/%Y')\n",
    "\n",
    "\n",
    "data_referencia = pd.to_datetime('08/06/2025', dayfirst=True)\n",
    "diferenca_em_dias = (data_referencia - df['Data de Adesao']).dt.days\n",
    "\n",
    "# Aproximação de meses (usando média de 30,44 dias por mês)\n",
    "df['Entrou nos Ultimos 12 Meses'] = diferenca_em_dias <= (12 * 30.44)"
   ]
  },
  {
   "cell_type": "code",
   "execution_count": 160,
   "id": "46cfc323",
   "metadata": {},
   "outputs": [],
   "source": [
    "df['Rotulo'] = ((df['Operou 12 Meses'] == 'S') & (df['Entrou nos Ultimos 12 Meses'] == True) & (df['Situacao da Conta'] == 'A')).astype(int)"
   ]
  },
  {
   "cell_type": "code",
   "execution_count": 161,
   "id": "a36cd7fa",
   "metadata": {},
   "outputs": [
    {
     "name": "stdout",
     "output_type": "stream",
     "text": [
      "Total de investidores bons: 67411\n"
     ]
    }
   ],
   "source": [
    "df_investidor_recente_ativo = df[df['Rotulo'] == 1]\n",
    "print(f\"Total de investidores bons: {len(df_investidor_recente_ativo)}\")\n",
    "df_outros = df[df['Rotulo'] == 0]"
   ]
  },
  {
   "cell_type": "code",
   "execution_count": 162,
   "id": "c1609bfd",
   "metadata": {},
   "outputs": [
    {
     "name": "stderr",
     "output_type": "stream",
     "text": [
      "/tmp/ipykernel_1198521/2820979210.py:1: SettingWithCopyWarning: \n",
      "A value is trying to be set on a copy of a slice from a DataFrame.\n",
      "Try using .loc[row_indexer,col_indexer] = value instead\n",
      "\n",
      "See the caveats in the documentation: https://pandas.pydata.org/pandas-docs/stable/user_guide/indexing.html#returning-a-view-versus-a-copy\n",
      "  df_outros['Rotulo'] = ((df_outros['Operou 12 Meses'] == 'S') & (df_outros['Entrou nos Ultimos 12 Meses'] == True) & (df['Situacao da Conta'] == 'D')).astype(int)\n"
     ]
    }
   ],
   "source": [
    "df_outros['Rotulo'] = ((df_outros['Operou 12 Meses'] == 'S') & (df_outros['Entrou nos Ultimos 12 Meses'] == True) & (df['Situacao da Conta'] == 'D')).astype(int)"
   ]
  },
  {
   "cell_type": "code",
   "execution_count": 163,
   "id": "44aad871",
   "metadata": {},
   "outputs": [
    {
     "name": "stdout",
     "output_type": "stream",
     "text": [
      "Total de investidores recentes atrivos: 359\n"
     ]
    }
   ],
   "source": [
    "df_investidor_recente_inativo = df_outros[df_outros['Rotulo'] == 1]\n",
    "print(f\"Total de investidores recentes atrivos: {len(df_investidor_recente_inativo)}\")\n",
    "df_outros = df_outros[df_outros['Rotulo'] == 0]"
   ]
  },
  {
   "cell_type": "code",
   "execution_count": 164,
   "id": "8d10edc7",
   "metadata": {},
   "outputs": [],
   "source": [
    "df_outros['Rotulo'] = ((df_outros['Operou 12 Meses'] == 'S') & (df_outros['Entrou nos Ultimos 12 Meses'] == False) & (df['Situacao da Conta'] == 'D')).astype(int)"
   ]
  },
  {
   "cell_type": "code",
   "execution_count": 165,
   "id": "b4dc20cf",
   "metadata": {},
   "outputs": [
    {
     "name": "stdout",
     "output_type": "stream",
     "text": [
      "Total de investidores recentes atrivos: 7958\n"
     ]
    }
   ],
   "source": [
    "df_investidor_maduro_inativo = df_outros[df_outros['Rotulo'] == 1]\n",
    "print(f\"Total de investidores recentes atrivos: {len(df_investidor_maduro_inativo)}\")\n",
    "df_outros = df_outros[df_outros['Rotulo'] == 0]"
   ]
  },
  {
   "cell_type": "code",
   "execution_count": 166,
   "id": "fda9840e",
   "metadata": {},
   "outputs": [],
   "source": [
    "df_outros['Rotulo'] = ((df_outros['Operou 12 Meses'] == 'S') & (df_outros['Entrou nos Ultimos 12 Meses'] == False) & (df['Situacao da Conta'] == 'A')).astype(int)"
   ]
  },
  {
   "cell_type": "code",
   "execution_count": 167,
   "id": "41acf678",
   "metadata": {},
   "outputs": [
    {
     "name": "stdout",
     "output_type": "stream",
     "text": [
      "Total de investidores recentes atrivos: 235316\n"
     ]
    }
   ],
   "source": [
    "df_investidor_maduro_ativo = df_outros[df_outros['Rotulo'] == 1]\n",
    "print(f\"Total de investidores recentes atrivos: {len(df_investidor_maduro_ativo)}\")\n",
    "df_outros = df_outros[df_outros['Rotulo'] == 0]"
   ]
  },
  {
   "cell_type": "code",
   "execution_count": 168,
   "id": "c2754303",
   "metadata": {},
   "outputs": [],
   "source": [
    "df_outros['Rotulo'] = ((df_outros['Operou 12 Meses'] == 'N') & (df_outros['Entrou nos Ultimos 12 Meses'] == True) & (df['Situacao da Conta'] == 'A')).astype(int)"
   ]
  },
  {
   "cell_type": "code",
   "execution_count": 169,
   "id": "779b5665",
   "metadata": {},
   "outputs": [
    {
     "name": "stdout",
     "output_type": "stream",
     "text": [
      "Total de investidores recentes atrivos: 658986\n"
     ]
    }
   ],
   "source": [
    "df_investidor_recente_sem_operacao_conta_ativa = df_outros[df_outros['Rotulo'] == 1]\n",
    "print(f\"Total de investidores recentes atrivos: {len(df_investidor_recente_sem_operacao_conta_ativa)}\")\n",
    "df_outros = df_outros[df_outros['Rotulo'] == 0]"
   ]
  },
  {
   "cell_type": "code",
   "execution_count": 170,
   "id": "ddc45189",
   "metadata": {},
   "outputs": [],
   "source": [
    "df_outros['Rotulo'] = ((df_outros['Operou 12 Meses'] == 'N') & (df_outros['Entrou nos Ultimos 12 Meses'] == True) & (df['Situacao da Conta'] == 'D')).astype(int)"
   ]
  },
  {
   "cell_type": "code",
   "execution_count": 171,
   "id": "bd7b3848",
   "metadata": {},
   "outputs": [
    {
     "name": "stdout",
     "output_type": "stream",
     "text": [
      "Total de investidores recentes atrivos: 76085\n"
     ]
    }
   ],
   "source": [
    "df_investidor_recente_sem_operacao_conta_inativa = df_outros[df_outros['Rotulo'] == 1]\n",
    "print(f\"Total de investidores recentes atrivos: {len(df_investidor_recente_sem_operacao_conta_inativa)}\")\n",
    "df_outros = df_outros[df_outros['Rotulo'] == 0]"
   ]
  },
  {
   "cell_type": "code",
   "execution_count": 172,
   "id": "eac32a52",
   "metadata": {},
   "outputs": [],
   "source": [
    "df_outros['Rotulo'] = ((df_outros['Operou 12 Meses'] == 'N') & (df_outros['Entrou nos Ultimos 12 Meses'] == False) & (df['Situacao da Conta'] == 'A')).astype(int)"
   ]
  },
  {
   "cell_type": "code",
   "execution_count": 173,
   "id": "3caa5f6b",
   "metadata": {},
   "outputs": [
    {
     "name": "stdout",
     "output_type": "stream",
     "text": [
      "Total de investidores recentes atrivos: 3055567\n"
     ]
    }
   ],
   "source": [
    "df_investidor_somente_conta_ativa = df_outros[df_outros['Rotulo'] == 1]\n",
    "print(f\"Total de investidores recentes atrivos: {len(df_investidor_somente_conta_ativa)}\")\n",
    "df_outros = df_outros[df_outros['Rotulo'] == 0]"
   ]
  },
  {
   "cell_type": "code",
   "execution_count": 174,
   "id": "67accf3b",
   "metadata": {},
   "outputs": [],
   "source": [
    "df_outros['Rotulo'] = ((df_outros['Operou 12 Meses'] == 'N') & (df_outros['Entrou nos Ultimos 12 Meses'] == False) & (df['Situacao da Conta'] == 'D')).astype(int)"
   ]
  },
  {
   "cell_type": "code",
   "execution_count": 175,
   "id": "e0e83238",
   "metadata": {},
   "outputs": [
    {
     "name": "stdout",
     "output_type": "stream",
     "text": [
      "Total de investidores recentes atrivos: 1898318\n"
     ]
    }
   ],
   "source": [
    "df_investidor_conta_inativa = df_outros[df_outros['Rotulo'] == 1]\n",
    "print(f\"Total de investidores recentes atrivos: {len(df_investidor_conta_inativa)}\")\n",
    "df_outros = df_outros[df_outros['Rotulo'] == 0]"
   ]
  },
  {
   "cell_type": "code",
   "execution_count": 176,
   "id": "ae94cfe9",
   "metadata": {},
   "outputs": [],
   "source": [
    "# df_recorte_2020 = df[df['Data de Adesao'] >= pd.to_datetime('2022-01-01')]"
   ]
  },
  {
   "cell_type": "code",
   "execution_count": 177,
   "id": "9115791d",
   "metadata": {},
   "outputs": [
    {
     "data": {
      "text/plain": [
       "0"
      ]
     },
     "execution_count": 177,
     "metadata": {},
     "output_type": "execute_result"
    }
   ],
   "source": [
    "len(df_outros)"
   ]
  },
  {
   "cell_type": "markdown",
   "id": "08fd0438",
   "metadata": {},
   "source": [
    "## Reunindo bases"
   ]
  },
  {
   "cell_type": "code",
   "execution_count": 178,
   "id": "a16c4cbe",
   "metadata": {},
   "outputs": [
    {
     "name": "stderr",
     "output_type": "stream",
     "text": [
      "/tmp/ipykernel_1198521/570275554.py:1: SettingWithCopyWarning: \n",
      "A value is trying to be set on a copy of a slice from a DataFrame.\n",
      "Try using .loc[row_indexer,col_indexer] = value instead\n",
      "\n",
      "See the caveats in the documentation: https://pandas.pydata.org/pandas-docs/stable/user_guide/indexing.html#returning-a-view-versus-a-copy\n",
      "  df_investidor_recente_ativo['tipo de Investidor'] = 'Recente Ativo'\n"
     ]
    }
   ],
   "source": [
    "df_investidor_recente_ativo['tipo de Investidor'] = 'Recente Ativo'\n",
    "df_investidor_recente_inativo['tipo de Investidor'] = 'Recente Inativo'\n",
    "\n",
    "df_investidor_maduro_ativo['tipo de Investidor'] = 'Maduro Ativo'\n",
    "df_investidor_maduro_inativo['tipo de Investidor'] = 'Maduro Inativo'\n",
    "\n",
    "df_investidor_recente_sem_operacao_conta_ativa['tipo de Investidor'] = 'Recente sem Operação Conta Ativa'\n",
    "df_investidor_recente_sem_operacao_conta_inativa['tipo de Investidor'] = 'Recente sem Operação Conta Inativa'\n",
    "\n",
    "df_investidor_somente_conta_ativa['tipo de Investidor'] = 'Somente Conta Ativa'\n",
    "df_investidor_conta_inativa['tipo de Investidor'] = 'Somente Conta Inativa'\n",
    "\n",
    "\n",
    "df_tipo_investidores = pd.concat([df_investidor_recente_ativo, \n",
    "                                  df_investidor_recente_inativo, \n",
    "                                  df_investidor_maduro_ativo, \n",
    "                                  df_investidor_maduro_inativo, \n",
    "                                  df_investidor_recente_sem_operacao_conta_ativa,\n",
    "                                  df_investidor_recente_sem_operacao_conta_inativa,\n",
    "                                  df_investidor_somente_conta_ativa,\n",
    "                                  df_investidor_conta_inativa\n",
    "                                  ], ignore_index=True)"
   ]
  },
  {
   "cell_type": "code",
   "execution_count": 179,
   "id": "5e2ea25d",
   "metadata": {},
   "outputs": [
    {
     "data": {
      "text/html": [
       "<div>\n",
       "<style scoped>\n",
       "    .dataframe tbody tr th:only-of-type {\n",
       "        vertical-align: middle;\n",
       "    }\n",
       "\n",
       "    .dataframe tbody tr th {\n",
       "        vertical-align: top;\n",
       "    }\n",
       "\n",
       "    .dataframe thead th {\n",
       "        text-align: right;\n",
       "    }\n",
       "</style>\n",
       "<table border=\"1\" class=\"dataframe\">\n",
       "  <thead>\n",
       "    <tr style=\"text-align: right;\">\n",
       "      <th></th>\n",
       "      <th>Codigo do Investidor</th>\n",
       "      <th>Data de Adesao</th>\n",
       "      <th>Estado Civil</th>\n",
       "      <th>Genero</th>\n",
       "      <th>Profissao</th>\n",
       "      <th>Idade</th>\n",
       "      <th>UF do Investidor</th>\n",
       "      <th>Cidade do Investidor</th>\n",
       "      <th>Pais do Investidor</th>\n",
       "      <th>Situacao da Conta</th>\n",
       "      <th>Operou 12 Meses</th>\n",
       "      <th>Entrou nos Ultimos 12 Meses</th>\n",
       "      <th>Rotulo</th>\n",
       "      <th>tipo de Investidor</th>\n",
       "    </tr>\n",
       "  </thead>\n",
       "  <tbody>\n",
       "    <tr>\n",
       "      <th>0</th>\n",
       "      <td>34414132</td>\n",
       "      <td>2024-09-20</td>\n",
       "      <td>Solteiro(a)</td>\n",
       "      <td>M</td>\n",
       "      <td>DESENHISTA INDUSTRIAL</td>\n",
       "      <td>22</td>\n",
       "      <td>RS</td>\n",
       "      <td>CAXIAS DO SUL</td>\n",
       "      <td>BRASIL</td>\n",
       "      <td>A</td>\n",
       "      <td>S</td>\n",
       "      <td>True</td>\n",
       "      <td>1</td>\n",
       "      <td>Recente Ativo</td>\n",
       "    </tr>\n",
       "    <tr>\n",
       "      <th>1</th>\n",
       "      <td>58662568</td>\n",
       "      <td>2025-01-08</td>\n",
       "      <td>Solteiro(a)</td>\n",
       "      <td>F</td>\n",
       "      <td>BOLSISTA, ESTAGIÁRIO E ASSEMELHADOS</td>\n",
       "      <td>25</td>\n",
       "      <td>MG</td>\n",
       "      <td>BELO HORIZONTE</td>\n",
       "      <td>BRASIL</td>\n",
       "      <td>A</td>\n",
       "      <td>S</td>\n",
       "      <td>True</td>\n",
       "      <td>1</td>\n",
       "      <td>Recente Ativo</td>\n",
       "    </tr>\n",
       "    <tr>\n",
       "      <th>2</th>\n",
       "      <td>59803151</td>\n",
       "      <td>2025-03-10</td>\n",
       "      <td>Solteiro(a)</td>\n",
       "      <td>F</td>\n",
       "      <td>ADMINISTRADOR</td>\n",
       "      <td>22</td>\n",
       "      <td>RJ</td>\n",
       "      <td>RIO DE JANEIRO</td>\n",
       "      <td>BRASIL</td>\n",
       "      <td>A</td>\n",
       "      <td>S</td>\n",
       "      <td>True</td>\n",
       "      <td>1</td>\n",
       "      <td>Recente Ativo</td>\n",
       "    </tr>\n",
       "    <tr>\n",
       "      <th>3</th>\n",
       "      <td>59165900</td>\n",
       "      <td>2025-01-31</td>\n",
       "      <td>Solteiro(a)</td>\n",
       "      <td>M</td>\n",
       "      <td>MÚSICO</td>\n",
       "      <td>38</td>\n",
       "      <td>SP</td>\n",
       "      <td>BARUERI</td>\n",
       "      <td>BRASIL</td>\n",
       "      <td>A</td>\n",
       "      <td>S</td>\n",
       "      <td>True</td>\n",
       "      <td>1</td>\n",
       "      <td>Recente Ativo</td>\n",
       "    </tr>\n",
       "    <tr>\n",
       "      <th>4</th>\n",
       "      <td>54169372</td>\n",
       "      <td>2024-07-26</td>\n",
       "      <td>Desquitado(a)</td>\n",
       "      <td>M</td>\n",
       "      <td>MOTORISTA DE VEICULOS DE TRANSPORTE DE CARGA</td>\n",
       "      <td>33</td>\n",
       "      <td>SP</td>\n",
       "      <td>SAO PAULO</td>\n",
       "      <td>BRASIL</td>\n",
       "      <td>A</td>\n",
       "      <td>S</td>\n",
       "      <td>True</td>\n",
       "      <td>1</td>\n",
       "      <td>Recente Ativo</td>\n",
       "    </tr>\n",
       "  </tbody>\n",
       "</table>\n",
       "</div>"
      ],
      "text/plain": [
       "   Codigo do Investidor Data de Adesao   Estado Civil Genero  \\\n",
       "0              34414132     2024-09-20    Solteiro(a)      M   \n",
       "1              58662568     2025-01-08    Solteiro(a)      F   \n",
       "2              59803151     2025-03-10    Solteiro(a)      F   \n",
       "3              59165900     2025-01-31    Solteiro(a)      M   \n",
       "4              54169372     2024-07-26  Desquitado(a)      M   \n",
       "\n",
       "                                      Profissao  Idade UF do Investidor  \\\n",
       "0                         DESENHISTA INDUSTRIAL     22               RS   \n",
       "1           BOLSISTA, ESTAGIÁRIO E ASSEMELHADOS     25               MG   \n",
       "2                                 ADMINISTRADOR     22               RJ   \n",
       "3                                        MÚSICO     38               SP   \n",
       "4  MOTORISTA DE VEICULOS DE TRANSPORTE DE CARGA     33               SP   \n",
       "\n",
       "  Cidade do Investidor Pais do Investidor Situacao da Conta Operou 12 Meses  \\\n",
       "0        CAXIAS DO SUL             BRASIL                 A               S   \n",
       "1       BELO HORIZONTE             BRASIL                 A               S   \n",
       "2       RIO DE JANEIRO             BRASIL                 A               S   \n",
       "3              BARUERI             BRASIL                 A               S   \n",
       "4            SAO PAULO             BRASIL                 A               S   \n",
       "\n",
       "   Entrou nos Ultimos 12 Meses  Rotulo tipo de Investidor  \n",
       "0                         True       1      Recente Ativo  \n",
       "1                         True       1      Recente Ativo  \n",
       "2                         True       1      Recente Ativo  \n",
       "3                         True       1      Recente Ativo  \n",
       "4                         True       1      Recente Ativo  "
      ]
     },
     "execution_count": 179,
     "metadata": {},
     "output_type": "execute_result"
    }
   ],
   "source": [
    "df_tipo_investidores.head()"
   ]
  },
  {
   "cell_type": "code",
   "execution_count": 180,
   "id": "59b5da58",
   "metadata": {},
   "outputs": [],
   "source": [
    "profissoes_agrupadas = {\n",
    "    \"Não CLTs\": [\"PROFISSIONAL LIBERAL\", 'TRABALHADOR AUTÔNOMO'],\n",
    "    \"Outros\": [\n",
    "        \"OUTROS\", \"Não se aplica\", \"FALECIDO\"\n",
    "    ],\n",
    "    \"Aposentados e Pensionistas\": [\n",
    "        \"APOSENTADO (EXCETO FUNCIONÁRIO PÚBLICO)\",\n",
    "        \"FUNCIONÁRIO PÚBLICO CIVIL APOSENTADO\",\n",
    "        \"MILITAR REFORMADO\", \"PENSIONISTA\"\n",
    "    ],\n",
    "    \"Estudantes e Bolsistas\": [\n",
    "        \"BOLSISTA, ESTAGIÁRIO E ASSEMELHADOS\", \"ESTUDANTE\"\n",
    "    ],\n",
    "    \"Funcionários Públicos\": [\n",
    "        \"SERVIDOR PÚBLICO FEDERAL\", \"SERVIDOR PÚBLICO MUNICIPAL\", \"SERVIDO PÚBLICO ESTADUAL\",\n",
    "        \"FUNCIONÁRIO PÚBLICO CIVIL APOSENTADO\",\n",
    "        \"OCUPANTE DE CARGO DE DIREÇAO E ASSESSORAMENTO SUPERIOR\",\n",
    "        \"OCUPANTE DE CARGO DE DIREÇAO E ASSESSORAMENTO INTERMEDIÁRIO\",\n",
    "        \"MEMBRO DO PODER JUDICIÁRIO: MINISTRO DE TRIB. SUPERIOR\",\n",
    "        \"MEMBRO DO PODER LEGISLATIVO: SENADOR, DEP.FED.E ESTADUAL\",\n",
    "        \"MEMBRO DO PODER EXECUTIVO: PRES.REPÚBLICA, MINISTRO ETC.\",\n",
    "        \"DELEGADO DE POLÍCIA\", \"FISCAL\"\n",
    "    ],\n",
    "    \"Profissionais da Saúde\": [\n",
    "        \"MÉDICO\", \"ODONTÓLOGO E DENTISTA\", \"ENFERMEIRO E NUTRICIONISTA\",\n",
    "        \"FISIOTERAPEUTA E TERAPEUTA OCUPACIONAL\", \"FARMACÊUTICO\", \"FONOAUDIÓLOGO\",\n",
    "        \"PSICÓLOGO\", \"BIÓLOGO E BIOMÉDICO\", \"TÉCNICO DE LABORATÓRIO E RAIO X\", 'PROTÉTICO', 'VETERINÁRIO E ZOOTECNISTA'\n",
    "    ],\n",
    "    \"Engenharia e Tecnologia\": [\n",
    "        \"ENGENHEIRO\", \"TÉCNICO DE MECÂNICA\", \"TÉCNICO DE ELETRICIDADE, ELETRÔNICA E TELECOMUNICAÇÕES\",\n",
    "        \"TÉCNICO DE QUÍMICA\", \"TÉCNICO DE CONTABILIDADE E DE ESTATÍSTICA\",\n",
    "        \"TÉCNICO EM AGRONOMIA E AGRIMENSURA\", \"TECNOLOGO\", \"ANALISTA DE SISTEMAS\", 'ARQUITETO',\n",
    "        'TECNÓLOGO'\n",
    "    ],\n",
    "    \"Direito e Justiça\": [\n",
    "        \"ADVOGADO\", \"PROCURADOR E ASSEMELHADOS\", \"SERVENTUÁRIO DE JUSTIÇA\", \"TABELIÃO\"\n",
    "    ],\n",
    "    \"Educação e Pesquisa\": [\n",
    "        \"PROFESSOR DE ENSINO SUPERIOR\", \"PROFESSOR DE PRIMEIRO E SEGUNDO GRAUS\",\n",
    "        \"DIRETOR DE ESTABELECIMENTO DE ENSINO\",\n",
    "        'BIBLIOTECÁRIO, ARQUIVISTA, MUSEÓLOGO E ARQUEÓLOGO', 'SOCIÓLOGO',\n",
    "        'OUTROS TRABALHADORES DE NÍVEL SUPERIOR LIGADOS AO ENSINO'\n",
    "    ],\n",
    "    \"Ciências Exatas e Humanas\": [\n",
    "        \"ECONOMISTA\", \"SOCIOLOGO\", \"ESTATÍSTICO\", \"FÍSICO\", \"GEÓGRAFO\", \"GEÓLOGO\",\n",
    "        \"ATUÁRIO E MATEMÁTICO\"\n",
    "    ],\n",
    "    \"Comércio e Vendas\": [\n",
    "        \"VENDEDOR PRACISTA, REPRESENTANTE COMERCIAL, CAIXEIRO VIAJANTE\",\n",
    "        \"VENDEDOR DE COMÉRCIO VAREJISTA E ATACADISTA\", \"SECURITÁRIO\",\n",
    "        \"CORRETOR DE IMÓVEIS, SEGUROS, TÍTULOS E VALORES\",\n",
    "        \"FEIRANTE\", \"JORNALEIRO\", \"SUPERIOR, INSPETOR E AGENTE DE COMPRAS E VENDAS\",'DEMONSTRADOR'\n",
    "    ],\n",
    "    \"Artes, Comunicação e Entretenimento\": [\n",
    "        \"JORNALISTA\", \"PUBLICITÁRIO\", \"COMUNICÓLOGO\", \"RELAÇÕES PÚBLICAS\",\n",
    "        \"ATOR E DIRETOR DE ESPETÁCULOS PÚBLICOS\", \"CANTOR E COMPOSITOR\", \"MÚSICO\",\n",
    "        \"LOCUTOR E COMENTARISTA DE RÁDIO E TELEVISÃO E RADIALISTA\",\n",
    "        \"DESENHISTA COMERCIAL\", \"DESENHISTA TÉCNICO\", \"DESENHISTA INDUSTRIAL\",\n",
    "        \"DECORADOR\", \"MODELO DE MODAS\", \"COREÓGRAFO E BAILARINO\",\n",
    "        \"PROFISSIONAIS DE LETRAS E DE ARTES\", \"ESCULTOR, PINTOR E ASSEMELHADOS\",\n",
    "        \"DIPLOMATA\", \"AGENCIADOR DE PROPAGANDA\", \"OPERADOR DE CÂMARA DE CINEMA E TELEVISÃO\"\n",
    "    ],\n",
    "    \"Administração e Negócios\": [\n",
    "        \"ADMINISTRADOR\", \"GERENTE\", \"DIRETOR DE EMPRESAS\", \"COORDENADOR E SUPERVISOR\",\n",
    "        \"CONSULTOR\", \"EMPRESÁRIO\", \"EMPRESÁRIO ARTÍSTICO E PRODUTOR DE ESPETÁCULOS PÚBLICOS\"\n",
    "    ],\n",
    "    \"Contabilidade e Finanças\": [\n",
    "        \"BANCARIO E ECONOMIÁRIO\", \"CONTADOR\", \"TRABALHADOR DOS SERVIÇOS DE CONTABILIDADE, DE CAIXA\"\n",
    "    ],\n",
    "    \"Transportes e Logística\": [\n",
    "        \"PILOTO DE AERONAVES\", \"MOTORISTA DE VEÍCULOS DE TRANSPORTE DE PASSAGEIROS\",\n",
    "        \"MOTORISTA DE VEICULOS DE TRANSPORTE DE CARGA\", \"COMISSÁRIO DE BORDO\",\n",
    "        \"MAQUINISTA E FOGUISTA DE EMBARCAÇÕES, LOCOMOTIVAS\", \"COMANDANTE DE EMBARCAÇOES\",\n",
    "        \"CONTRAMESTRE DE EMBARCAÇÕES\", 'MARINHEIRO E ASSEMELHADOS'\n",
    "    ],\n",
    "    \"Trabalho Operacional e Técnicos\": [\n",
    "        \"MECÂNICO DE MANUTENÇÃO DE VEÍCULOS AUTOMÓVEIS E MÁQUINAS\",\n",
    "        \"ELETRICISTA E ASSEMELHADOS\", \"LANTERNEIRO E PINTOR DE VEÍCULOS METÁLICOS\",\n",
    "        \"ELETRICISTA DE MANUTENÇÃO DE VEÍCULOS AUTOMOTORES MÁQUINAS\",\n",
    "        \"MECANICO DE MANUTENÇÃO, MONTADOR, PREPARADOR, OPERADOR\"\n",
    "    ],\n",
    "    \"Serviços Gerais\": [\n",
    "        \"AUXILIAR DE ESCRITÓRIO E ASSEMELHADOS\", \"AGENTE ADMINISTRATIVO\",\n",
    "        \"PORTEIRO DE EDIFÍCIO, ASCENSORISTA, GARAGISTA E FAXINEIRO\",\n",
    "        \"SECRETARIO, ESTENÓGRAFO, DATILÓGRAFO, RECEPCIONISTA,TELEF.\",\n",
    "        \"EMPREGADO DOMÉSTICO\", \"AUXILIAR DE LABORATORIO\", \"GOVERNANTA DE HOTEL, CAMAREIRO, PORTEIRO, COZINHEIRO\"\n",
    "    ],\n",
    "    \"Religião e Assistência Social\": [\n",
    "        \"SACERDOTE OU MEMBRO DE ORDENS OU SEITAS RELIGIOSAS\", \"ASSISTENTE SOCIAL\"\n",
    "    ],\n",
    "    \"Forças de Segurança e Defesa\": [\n",
    "        \"MILITAR EM GERAL\", \"OFICIAIS DAS FORÇAS ARMADAS E FORÇAS AUXILIARES\", \"BOMBEIRO\"\n",
    "    ],\n",
    "    \"Proprietários e Renda Passiva\": [\n",
    "        \"PROPRIETÁRIO DE ESTABELECIMENTO INDUSTRIAL\",\n",
    "        \"PROPRIETÁRIO DE ESTABELECIMENTO COMERCIAL\",\n",
    "        \"PROPRIETÁRIO DE ESTABELECIMENTO DE PRESTAÇÃO DE SERVIÇOS\",\n",
    "        \"PROPRIETARIO DE MICROEMPRESAS\",\n",
    "        \"PROPRIETÁRIO DE IMÓVEL (RECEBENDO RENDIMENTO DE ALUGUEL)\",\n",
    "        \"PROPRIETÁRIO DE ESTABELECIMENTO AGRÍCOLA, DA PECUÁRIA\",\n",
    "        \"CAPITALISTA, RECEBENDO RENDIMENTO DE APLICAÇÃO DE CAPITAL\"\n",
    "    ],\n",
    "    \"Trabalhadores Rurais e Agropecuários\": [\n",
    "        \"TRABALHADOR AGRÍCOLA\", \"TRABALHADOR DA PECUÁRIA\", \"AGRONOMO\",\n",
    "        \"TÉCNICO EM AGRONOMIA E AGRIMENSURA\", \"GARIMPEIRO\", \"TRABALHADOR FLORESTAL\", 'TRABALHADOR DA PESCA'\n",
    "    ],\n",
    "    \"Trabalho Industrial e Produção\": [\n",
    "        \"TRABALHADOR DE CONSTRUÇÃO CIVIL\", \"TRABALHADOR METALÚRGICO E SIDERÚRGICO\",\n",
    "        \"TRABALHADOR DE FABRICAÇÃO DE ROUPAS\", \"TRABALHADOR DE FABRICAÇÃO DE PRODUTOS DE BORRACHA E PLÁSTICO\",\n",
    "        \"TRABALHADOR DE FABRICAÇÃO E PREPARAÇÃO DE ALIMENTOS BEBIDAS\",\n",
    "        \"TRABALHADOR DE FABRICAÇÃO DE PRODUTOS TÊXTEIS\", \"TRABALHADOR DE USINAGEM E METAIS\",\n",
    "        \"TRABALHADOR DE FABRICAÇÃO DE CALÇADOS E ARTEFATOS DE COURO\",\n",
    "        \"TRABALHADOR DE FABRICAÇÃO DE PAPEL E PAPELÃO\", \"TRABALHADOR DE ARTES GRÁFICAS\",\n",
    "        \"TRABALHADOR DE INSTALAÇÕES DE PROCESSAMENTO QUÍMICO\",\n",
    "        \"TRABALHADOR DE TRATAMENTO DE FUMO E DE FABR. CIGARROS\",\n",
    "        \"TRABALHADOR DE FABRICAÇÃO DE ARTEFATOS DE MADEIRA\"\n",
    "    ],\n",
    "    \"Serviços Específicos\": [\n",
    "        \"CABELEIREIRO, BARBEIRO, MANICURE, PEDICURE, MAQUILADOR\",\n",
    "        \"LEILOEIRO, AVALIADOR E ASSEMELHADOS\", \"DESPACHANTE, INCLUSIVE O ADUANEIRO\",\n",
    "        \"AGENTE DE SERVIÇOS FUNERÁRIOS E EMBALSAMADOR\", \"AGENTE DE VIAGEM E GUIA DE TURISMO\"\n",
    "    ],\n",
    "    \"Ciências Naturais e Exatas\": [\n",
    "        \"ASTRÔNOMO E METEOROLOGISTA\", \"QUIMICO\", \"TÉCNICO DE BIOLOGIA\"\n",
    "    ],\n",
    "    \"Artesanato e Joalheria\": [\n",
    "        \"JOALHEIROS E OURIVES\", \"ALFAIATE\"\n",
    "    ],\n",
    "    \"Esporte\": [\n",
    "        \"ATLETA PROFISSIONAL E TÉCNICO EM DESPORTOS\"\n",
    "    ],\n",
    "    \"Carga e Logística Manual\": [\n",
    "        \"ESTIVADOR, CARREGADOR, EMBALADOR E ASSEMELHADOS\"\n",
    "    ],\n",
    "    \"Direção e Liderança\": [\n",
    "        \"CHEFE INTERMEDIÁRIO\", \"MESTRE E CONTRAMESTRE\"\n",
    "    ]\n",
    "}\n",
    "# Primeiro, invertemos o dicionário: cada profissão vira uma chave apontando para sua área\n",
    "profissao_para_grupo = {}\n",
    "for grupo, profissoes in profissoes_agrupadas.items():\n",
    "    for profissao in profissoes:\n",
    "        profissao_para_grupo[profissao] = grupo\n",
    "\n",
    "# Agora aplicamos isso no DataFrame\n",
    "df_tipo_investidores['Grupo_Profissao'] = df_tipo_investidores['Profissao'].map(profissao_para_grupo)\n"
   ]
  },
  {
   "cell_type": "code",
   "execution_count": 181,
   "id": "a35af6b0",
   "metadata": {},
   "outputs": [],
   "source": [
    "macrogrupo_para_grupos = {\n",
    "    'Economia, Negócios e Administração': [\n",
    "        'Contabilidade e Finanças',\n",
    "        'Administração e Negócios',\n",
    "        'Comércio e Vendas',\n",
    "        'Proprietários e Renda Passiva',\n",
    "        'Direção e Liderança'\n",
    "    ],\n",
    "    'Serviços Públicos e Segurança': [\n",
    "        'Funcionários Públicos',\n",
    "        'Forças de Segurança e Defesa',\n",
    "        'Religião e Assistência Social',\n",
    "        'Direito e Justiça'\n",
    "    ],\n",
    "    'Educação, Ciência e Pesquisa': [\n",
    "        'Educação e Pesquisa',\n",
    "        'Ciências Naturais e Exatas',\n",
    "        'Ciências Exatas e Humanas',\n",
    "        'Estudantes e Bolsistas'\n",
    "    ],\n",
    "    'Saúde e Bem-estar': [\n",
    "        'Profissionais da Saúde',\n",
    "        'Aposentados e Pensionistas'\n",
    "    ],\n",
    "    'Engenharia, Tecnologia e Produção': [\n",
    "        'Engenharia e Tecnologia',\n",
    "        'Trabalho Industrial e Produção'\n",
    "    ],\n",
    "    'Arte, Cultura e Comunicação': [\n",
    "        'Artes, Comunicação e Entretenimento',\n",
    "        'Artesanato e Joalheria'\n",
    "    ],\n",
    "    'Serviços Gerais e Técnicos': [\n",
    "        'Serviços Gerais',\n",
    "        'Serviços Específicos',\n",
    "        'Trabalho Operacional e Técnicos'\n",
    "    ],\n",
    "    'Transporte e Logística': [\n",
    "        'Transportes e Logística',\n",
    "        'Carga e Logística Manual'\n",
    "    ],\n",
    "    'Agricultura e Meio Rural': [\n",
    "        'Trabalhadores Rurais e Agropecuários'\n",
    "    ],\n",
    "    'Esporte': [\n",
    "        'Esporte'\n",
    "    ],\n",
    "    'Outros': [\n",
    "        'Outros'\n",
    "    ],\n",
    "    'Nao CLTs': [\n",
    "        'Não CLTs'\n",
    "    ]\n",
    "}\n",
    "\n",
    "# 2. Mapeia o grupo para o macrogrupo\n",
    "grupo_para_macrogrupo = {}\n",
    "for macro, grupos in macrogrupo_para_grupos.items():\n",
    "    for grupo in grupos:\n",
    "        grupo_para_macrogrupo[grupo] = macro\n",
    "\n",
    "# 3. Aplica os mapeamentos no DataFrame\n",
    "df_tipo_investidores['Macrogrupo_Profissao'] = df_tipo_investidores['Grupo_Profissao'].map(grupo_para_macrogrupo)\n",
    "\n"
   ]
  },
  {
   "cell_type": "code",
   "execution_count": 182,
   "id": "9a4c94a4",
   "metadata": {},
   "outputs": [],
   "source": [
    "df_tipo_investidores = df_tipo_investidores.drop(columns=['Entrou nos Ultimos 12 Meses', 'Rotulo'])"
   ]
  },
  {
   "cell_type": "code",
   "execution_count": 185,
   "id": "d6bef131",
   "metadata": {},
   "outputs": [
    {
     "data": {
      "text/plain": [
       "array(['Recente Ativo', 'Recente Inativo', 'Maduro Ativo',\n",
       "       'Maduro Inativo', 'Recente sem Operação Conta Ativa',\n",
       "       'Recente sem Operação Conta Inativa', 'Somente Conta Ativa',\n",
       "       'Somente Conta Inativa'], dtype=object)"
      ]
     },
     "execution_count": 185,
     "metadata": {},
     "output_type": "execute_result"
    }
   ],
   "source": [
    "df_tipo_investidores['tipo de Investidor'].unique()"
   ]
  },
  {
   "cell_type": "code",
   "execution_count": 187,
   "id": "de807d06",
   "metadata": {},
   "outputs": [
    {
     "data": {
      "text/plain": [
       "array(['M', 'F', 'N'], dtype=object)"
      ]
     },
     "execution_count": 187,
     "metadata": {},
     "output_type": "execute_result"
    }
   ],
   "source": [
    "df_tipo_investidores['Genero'].unique()"
   ]
  },
  {
   "cell_type": "code",
   "execution_count": 184,
   "id": "15c9dd23",
   "metadata": {},
   "outputs": [],
   "source": [
    "df_tipo_investidores.to_csv(\"./data/base_tesouro_direto_macro_profissoes_tipo_investidor.csv\", sep=';')"
   ]
  },
  {
   "cell_type": "code",
   "execution_count": null,
   "id": "26266780",
   "metadata": {},
   "outputs": [],
   "source": []
  },
  {
   "cell_type": "code",
   "execution_count": 55,
   "id": "c675410b",
   "metadata": {},
   "outputs": [
    {
     "data": {
      "text/plain": [
       "Codigo do Investidor             int64\n",
       "Data de Adesao          datetime64[ns]\n",
       "Estado Civil                     int64\n",
       "Genero                           int64\n",
       "Profissao                        int64\n",
       "Idade                            int64\n",
       "UF do Investidor                 int64\n",
       "Cidade do Investidor             int64\n",
       "Pais do Investidor               int64\n",
       "Situacao da Conta                int64\n",
       "Operou 12 Meses                  int64\n",
       "tipo de Investidor               int64\n",
       "dtype: object"
      ]
     },
     "execution_count": 55,
     "metadata": {},
     "output_type": "execute_result"
    }
   ],
   "source": [
    "df_tipo_investidores.dtypes"
   ]
  },
  {
   "cell_type": "code",
   "execution_count": 56,
   "id": "1dde84ce",
   "metadata": {},
   "outputs": [],
   "source": [
    "# Encoding de variáveis categóricas (transformado em numeros inteiros)\n",
    "label_encoders = {}\n",
    "for col in df_tipo_investidores.select_dtypes(include=['object','datetime64[ns]']).columns:\n",
    "    le = LabelEncoder()\n",
    "    df_tipo_investidores[col] = le.fit_transform(df_tipo_investidores[col])\n",
    "    label_encoders[col] = le\n",
    "\n",
    "X = df_tipo_investidores.drop(columns=['tipo de Investidor'])\n",
    "y = df_tipo_investidores['tipo de Investidor']\n",
    "X_train, X_test, y_train, y_test = train_test_split(X, y, test_size=0.3, random_state=42) #70% Treino e 30%Teste"
   ]
  },
  {
   "cell_type": "code",
   "execution_count": 58,
   "id": "3396be7d",
   "metadata": {},
   "outputs": [
    {
     "name": "stdout",
     "output_type": "stream",
     "text": [
      "Treinamento com arvore de decisao finalizado\n",
      "Acurácia Decision Tree: 1.0\n",
      "Treinamento com arvore de decisao aleatoria finalizado\n"
     ]
    },
    {
     "name": "stderr",
     "output_type": "stream",
     "text": [
      "/home/fbrodrigues@FAZENDA.MS/teste/.venv/lib/python3.10/site-packages/xgboost/training.py:183: UserWarning: [12:07:21] WARNING: /workspace/src/common/error_msg.cc:27: The tree method `gpu_hist` is deprecated since 2.0.0. To use GPU training, set the `device` parameter to CUDA instead.\n",
      "\n",
      "    E.g. tree_method = \"hist\", device = \"cuda\"\n",
      "\n",
      "  bst.update(dtrain, iteration=i, fobj=obj)\n",
      "/home/fbrodrigues@FAZENDA.MS/teste/.venv/lib/python3.10/site-packages/xgboost/training.py:183: UserWarning: [12:07:21] WARNING: /workspace/src/learner.cc:738: \n",
      "Parameters: { \"use_label_encoder\" } are not used.\n",
      "\n",
      "  bst.update(dtrain, iteration=i, fobj=obj)\n",
      "/home/fbrodrigues@FAZENDA.MS/teste/.venv/lib/python3.10/site-packages/xgboost/core.py:2676: UserWarning: [12:07:25] WARNING: /workspace/src/common/error_msg.cc:27: The tree method `gpu_hist` is deprecated since 2.0.0. To use GPU training, set the `device` parameter to CUDA instead.\n",
      "\n",
      "    E.g. tree_method = \"hist\", device = \"cuda\"\n",
      "\n",
      "  if len(data.shape) != 1 and self.num_features() != data.shape[1]:\n",
      "/home/fbrodrigues@FAZENDA.MS/teste/.venv/lib/python3.10/site-packages/xgboost/core.py:729: UserWarning: [12:07:25] WARNING: /workspace/src/common/error_msg.cc:58: Falling back to prediction using DMatrix due to mismatched devices. This might lead to higher memory usage and slower performance. XGBoost is running on: cuda:0, while the input data is on: cpu.\n",
      "Potential solutions:\n",
      "- Use a data structure that matches the device ordinal in the booster.\n",
      "- Set the device for booster before call to inplace_predict.\n",
      "\n",
      "This warning will only be shown once.\n",
      "\n",
      "  return func(**kwargs)\n"
     ]
    },
    {
     "name": "stdout",
     "output_type": "stream",
     "text": [
      "Treinamento com XGBOOST finalizado\n",
      "Treinamento com CATBOOST finalizado\n",
      "Acurácia Decision Tree: 1.0\n",
      "Acurácia Random Forest: 0.998149873002451\n",
      "Acurácia XGBoost: 0.9998664856805892\n",
      "Acurácia CatBoost: 0.9997965496085169\n"
     ]
    }
   ],
   "source": [
    "from sklearn.tree import DecisionTreeClassifier\n",
    "from sklearn.ensemble import RandomForestClassifier\n",
    "from xgboost import XGBClassifier\n",
    "from catboost import CatBoostClassifier\n",
    "from sklearn.metrics import accuracy_score\n",
    "\n",
    "# Decision Tree\n",
    "dt = DecisionTreeClassifier(max_depth=3)\n",
    "dt.fit(X_train, y_train)\n",
    "pred_dt = dt.predict(X_test)\n",
    "print(\"Treinamento com arvore de decisao finalizado\")\n",
    "print(\"Acurácia Decision Tree:\", accuracy_score(y_test, pred_dt))\n",
    "\n",
    "# Random Forest\n",
    "rf = RandomForestClassifier(n_estimators=100,max_depth=3)\n",
    "rf.fit(X_train, y_train)\n",
    "pred_rf = rf.predict(X_test)\n",
    "print(\"Treinamento com arvore de decisao aleatoria finalizado\")\n",
    "\n",
    "# XGBoost\n",
    "xgb = XGBClassifier(use_label_encoder=False, eval_metric='logloss',n_estimators=100,max_depth=3,learning_rate=0.2, tree_method='gpu_hist')\n",
    "xgb.fit(X_train, y_train)\n",
    "pred_xgb = xgb.predict(X_test)\n",
    "print(\"Treinamento com XGBOOST finalizado\")\n",
    "\n",
    "# CatBoost\n",
    "cb = CatBoostClassifier(verbose=0, task_type=\"GPU\")\n",
    "cb.fit(X_train, y_train)\n",
    "pred_cb = cb.predict(X_test)\n",
    "print(\"Treinamento com CATBOOST finalizado\")\n",
    "\n",
    "# Avaliação\n",
    "print(\"Acurácia Decision Tree:\", accuracy_score(y_test, pred_dt))\n",
    "print(\"Acurácia Random Forest:\", accuracy_score(y_test, pred_rf))\n",
    "print(\"Acurácia XGBoost:\", accuracy_score(y_test, pred_xgb))\n",
    "print(\"Acurácia CatBoost:\", accuracy_score(y_test, pred_cb))\n",
    "\n",
    "#Será que 90% é bom? Vamos analisar com mais detalhes os resultados a seguir."
   ]
  },
  {
   "cell_type": "code",
   "execution_count": 59,
   "id": "73700428",
   "metadata": {},
   "outputs": [
    {
     "name": "stderr",
     "output_type": "stream",
     "text": [
      "/tmp/ipykernel_502503/510692250.py:20: FutureWarning: \n",
      "\n",
      "Passing `palette` without assigning `hue` is deprecated and will be removed in v0.14.0. Assign the `y` variable to `hue` and set `legend=False` for the same effect.\n",
      "\n",
      "  sns.barplot(\n"
     ]
    },
    {
     "data": {
      "text/plain": [
       "<module 'matplotlib.pyplot' from '/home/fbrodrigues@FAZENDA.MS/teste/.venv/lib/python3.10/site-packages/matplotlib/pyplot.py'>"
      ]
     },
     "execution_count": 59,
     "metadata": {},
     "output_type": "execute_result"
    },
    {
     "data": {
      "image/png": "[encoded data removed]",
      "text/plain": [
       "<Figure size 1000x600 with 1 Axes>"
      ]
     },
     "metadata": {},
     "output_type": "display_data"
    }
   ],
   "source": [
    "import matplotlib.pyplot as plt\n",
    "import seaborn as sns\n",
    "import pandas as pd\n",
    "\n",
    "# Importância das características - XGBoost (você colocou 'Random Forest' no título, mas está usando xgb)\n",
    "importances = xgb.feature_importances_\n",
    "features = X.columns\n",
    "\n",
    "# Cria um DataFrame para facilitar a ordenação\n",
    "df_importance = pd.DataFrame({\n",
    "    'Feature': features,\n",
    "    'Importance': importances\n",
    "})\n",
    "\n",
    "# Ordena de maior para menor\n",
    "df_importance = df_importance.sort_values(by='Importance', ascending=False)\n",
    "\n",
    "# Plotando\n",
    "plt.figure(figsize=(10, 6))\n",
    "sns.barplot(\n",
    "    x='Importance',\n",
    "    y='Feature',\n",
    "    data=df_importance,\n",
    "    palette='Blues_d'\n",
    ")\n",
    "plt.title('Importância das Features - XGBoost', fontsize=14)\n",
    "plt.xlabel('Importância')\n",
    "plt.ylabel('Features')\n",
    "plt.tight_layout()\n",
    "plt\n"
   ]
  },
  {
   "cell_type": "code",
   "execution_count": null,
   "id": "544c1c44",
   "metadata": {},
   "outputs": [],
   "source": []
  }
 ],
 "metadata": {
  "kernelspec": {
   "display_name": ".venv",
   "language": "python",
   "name": "python3"
  },
  "language_info": {
   "codemirror_mode": {
    "name": "ipython",
    "version": 3
   },
   "file_extension": ".py",
   "mimetype": "text/x-python",
   "name": "python",
   "nbconvert_exporter": "python",
   "pygments_lexer": "ipython3",
   "version": "3.10.12"
  }
 },
 "nbformat": 4,
 "nbformat_minor": 5
}
